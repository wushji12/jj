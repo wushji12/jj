{
 "cells": [
  {
   "cell_type": "code",
   "execution_count": 2,
   "metadata": {},
   "outputs": [
    {
     "name": "stdout",
     "output_type": "stream",
     "text": [
      "动作片\n"
     ]
    }
   ],
   "source": [
    "#--*--coding :UTF-8 -*-\n",
    "import numpy as np\n",
    "import  operator\n",
    "def createDataSet():\n",
    "    # 四组二维特征\n",
    "    group =np.array([[1,101],[5,89],[108,5],[115,8]])\n",
    "    #四组特征标签\n",
    "    labels=['爱情片','爱情片','动作片','动作片']\n",
    "    return group ,labels\n",
    " #knn算法和分类器\n",
    "\n",
    "\n",
    "\n",
    "\"\"\"\"\n",
    "Paramerters:\n",
    "    inX:测试集\n",
    "    dataSet:训练集\n",
    "    labels:分类标签\n",
    "    k:KNN算法参数，选择距离最小的k个点\n",
    "    \n",
    "Returns:\n",
    "    sortedclassCount[0][0]-分类结果\n",
    "\n",
    "\"\"\"\n",
    "def classify0(inX,dataSet,labels,k):\n",
    "    dataSetSize=dataSet.shape[0]#是读取矩阵第一维度的长度,即行数\n",
    "    diffMat=np.tile(inX,(dataSetSize,1))-dataSet #将inX，沿着x轴复制一倍，y轴复制dataSize倍，我们知道inX是个向量，而dataset是个矩阵，两者之间要进行相减的运算，需要把这个向量也补成一个和dataset有相同行数列数的矩阵，怎么个补法呢。这就要看tile()的第二个参数了，也就是上面的(datasetsize,1)，这个参数的意思就是把inX补成有datasetsize行数的矩阵。假如inX是（1，2） datasetsize =3 那么经过tile()转换后产生了一个这样的矩阵（[1,2],[1,2],[1,2]\n",
    "    # 二维特征想减的平方\n",
    "    sqDiffMat=diffMat**2\n",
    "    #按行相加，之和，然后开方，计算出距离\n",
    "    distances=(sqDiffMat.sum(axis=1))**0.5\n",
    "    #返回距离中元素从小到大的索引值\n",
    "    sortedDistIndices=distances.argsort()\n",
    "    #定一个记录类别次数的字典\n",
    "    classCount={}\n",
    "    for  i in range(k):\n",
    "        #取出前k个元素的类别\n",
    "        voteIlabel=labels[sortedDistIndices[i]]\n",
    "        #计算类别次数\n",
    "        classCount[voteIlabel]=classCount.get(voteIlabel,0)+1\n",
    "        #降序排序字典\n",
    "    sortedClassCount=sorted(classCount.items(),key=operator.itemgetter(1),reverse=True)\n",
    "    #返回次数最多的类别，要进行分类的类别\n",
    "    return sortedClassCount[0][0]\n",
    "\n",
    "\n",
    "\n",
    "if __name__==\"__main__\":\n",
    "    # 创建数据集\n",
    "    group ,labels=createDataSet()\n",
    "    #测试集\n",
    "    test=[101,20]\n",
    "    #knn分类\n",
    "    test_class=classify0(test,group,labels,3)\n",
    "    #打印结果\n",
    "    print(test_class)\n"
   ]
  },
  {
   "cell_type": "code",
   "execution_count": null,
   "metadata": {},
   "outputs": [],
   "source": []
  },
  {
   "cell_type": "code",
   "execution_count": null,
   "metadata": {
    "collapsed": true
   },
   "outputs": [],
   "source": []
  }
 ],
 "metadata": {
  "kernelspec": {
   "display_name": "Python 3",
   "language": "python",
   "name": "python3"
  },
  "language_info": {
   "codemirror_mode": {
    "name": "ipython",
    "version": 3
   },
   "file_extension": ".py",
   "mimetype": "text/x-python",
   "name": "python",
   "nbconvert_exporter": "python",
   "pygments_lexer": "ipython3",
   "version": "3.6.3"
  }
 },
 "nbformat": 4,
 "nbformat_minor": 2
}
